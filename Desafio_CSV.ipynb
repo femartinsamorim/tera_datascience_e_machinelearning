{
  "nbformat": 4,
  "nbformat_minor": 0,
  "metadata": {
    "colab": {
      "provenance": [],
      "toc_visible": true,
      "authorship_tag": "ABX9TyPSGSPuOt/CyOXHxFenkvFV",
      "include_colab_link": true
    },
    "kernelspec": {
      "name": "python3",
      "display_name": "Python 3"
    },
    "language_info": {
      "name": "python"
    }
  },
  "cells": [
    {
      "cell_type": "markdown",
      "metadata": {
        "id": "view-in-github",
        "colab_type": "text"
      },
      "source": [
        "<a href=\"https://colab.research.google.com/github/femartinsamorim/tera_datascience_e_machinelearning/blob/main/Desafio_CSV.ipynb\" target=\"_parent\"><img src=\"https://colab.research.google.com/assets/colab-badge.svg\" alt=\"Open In Colab\"/></a>"
      ]
    },
    {
      "cell_type": "code",
      "execution_count": 1,
      "metadata": {
        "id": "tsyWQhj66kb3"
      },
      "outputs": [],
      "source": [
        "import csv"
      ]
    },
    {
      "cell_type": "code",
      "source": [
        "alunos_lista = []\n",
        "with open('/content/notas.csv','r') as _file:\n",
        "  notas_alunos_csv = csv.DictReader(_file)\n",
        "  for _dict in notas_alunos_csv:\n",
        "    alunos_lista.append(dict(_dict))\n",
        "\n",
        "alunos_lista"
      ],
      "metadata": {
        "colab": {
          "base_uri": "https://localhost:8080/"
        },
        "id": "OttxK7HE69jZ",
        "outputId": "82f2019f-99fa-41b3-bd01-eb491a9aa27c"
      },
      "execution_count": 4,
      "outputs": [
        {
          "output_type": "execute_result",
          "data": {
            "text/plain": [
              "[{'matricula': '1', 'nome_aluno': 'Diego Alves', 'n1': '9.0', 'n2': '4.5'},\n",
              " {'matricula': '2', 'nome_aluno': 'Rafinha', 'n1': '5.2', 'n2': '6.4'},\n",
              " {'matricula': '3', 'nome_aluno': 'Rodrigo Caio', 'n1': '6.0', 'n2': '4.5'},\n",
              " {'matricula': '4', 'nome_aluno': 'Pablo Marí', 'n1': '7.3', 'n2': '6.8'},\n",
              " {'matricula': '5', 'nome_aluno': 'Filipe Luís', 'n1': '3.5', 'n2': '5.7'},\n",
              " {'matricula': '6', 'nome_aluno': 'Willian Arão', 'n1': '5.0', 'n2': '5.5'},\n",
              " {'matricula': '7', 'nome_aluno': 'Gerson', 'n1': '8.5', 'n2': '6.9'},\n",
              " {'matricula': '8', 'nome_aluno': 'Everton Ribeiro', 'n1': '7.2', 'n2': '8.1'},\n",
              " {'matricula': '9', 'nome_aluno': 'Arrascaeta', 'n1': '8.5', 'n2': '8.0'},\n",
              " {'matricula': '10', 'nome_aluno': 'Bruno Henrique', 'n1': '9.0', 'n2': '8.3'},\n",
              " {'matricula': '11', 'nome_aluno': 'Gabigol', 'n1': '6.2', 'n2': '10.0'},\n",
              " {'matricula': '12', 'nome_aluno': 'Santos', 'n1': '7.7', 'n2': '7.1'},\n",
              " {'matricula': '13', 'nome_aluno': 'Rodinei', 'n1': '3.5', 'n2': '9.5'},\n",
              " {'matricula': '14', 'nome_aluno': 'David Luiz', 'n1': '6.8', 'n2': '6.2'},\n",
              " {'matricula': '15', 'nome_aluno': 'Léo Pereira', 'n1': '5.5', 'n2': '7.2'},\n",
              " {'matricula': '16', 'nome_aluno': 'Thiago Maia', 'n1': '3.4', 'n2': '2.7'},\n",
              " {'matricula': '17', 'nome_aluno': 'João Gomes', 'n1': '7.5', 'n2': '6.6'},\n",
              " {'matricula': '18', 'nome_aluno': 'Júnior', 'n1': '8.8', 'n2': '9.4'},\n",
              " {'matricula': '19', 'nome_aluno': 'Andrade', 'n1': '9.5', 'n2': '8.6'},\n",
              " {'matricula': '20', 'nome_aluno': 'Adílio', 'n1': '9.8', 'n2': '6.9'},\n",
              " {'matricula': '21', 'nome_aluno': 'Zico', 'n1': '10.0', 'n2': '10.0'},\n",
              " {'matricula': '22', 'nome_aluno': 'Nunes', 'n1': '9.6', 'n2': '4.2'}]"
            ]
          },
          "metadata": {},
          "execution_count": 4
        }
      ]
    },
    {
      "cell_type": "code",
      "source": [
        "alunos_lista[:5]"
      ],
      "metadata": {
        "colab": {
          "base_uri": "https://localhost:8080/"
        },
        "id": "YhHX5aBV716i",
        "outputId": "a020872b-d5ef-4729-885c-3493575e6dc2"
      },
      "execution_count": 5,
      "outputs": [
        {
          "output_type": "execute_result",
          "data": {
            "text/plain": [
              "[{'matricula': '1', 'nome_aluno': 'Diego Alves', 'n1': '9.0', 'n2': '4.5'},\n",
              " {'matricula': '2', 'nome_aluno': 'Rafinha', 'n1': '5.2', 'n2': '6.4'},\n",
              " {'matricula': '3', 'nome_aluno': 'Rodrigo Caio', 'n1': '6.0', 'n2': '4.5'},\n",
              " {'matricula': '4', 'nome_aluno': 'Pablo Marí', 'n1': '7.3', 'n2': '6.8'},\n",
              " {'matricula': '5', 'nome_aluno': 'Filipe Luís', 'n1': '3.5', 'n2': '5.7'}]"
            ]
          },
          "metadata": {},
          "execution_count": 5
        }
      ]
    },
    {
      "cell_type": "code",
      "source": [
        "# Média da Turma\n",
        "soma_n1 = 0\n",
        "for alunos in alunos_lista:\n",
        "  soma_n1 += float(alunos['n1'])\n",
        "\n",
        "media_n1 = soma_n1/len(alunos_lista)\n",
        "media_n1_round = round(media_n1,2)\n",
        "print(f'A média da turma é de: {media_n1_round}')"
      ],
      "metadata": {
        "colab": {
          "base_uri": "https://localhost:8080/"
        },
        "id": "A3_qL3bp784g",
        "outputId": "6bf74fac-1647-4875-fe55-12caeff3bba4"
      },
      "execution_count": 8,
      "outputs": [
        {
          "output_type": "stream",
          "name": "stdout",
          "text": [
            "A média da turma é de: 7.16\n"
          ]
        }
      ]
    },
    {
      "cell_type": "code",
      "source": [
        "#Média final da Turma\n",
        "soma_final = 0\n",
        "for alunos in alunos_lista:\n",
        "  soma_final += (0.4 * float(alunos['n1']) + 0.6 * float(alunos['n2']))\n",
        "\n",
        "media_final = soma_final/len(alunos_lista)\n",
        "media_final_round = round(media_final,2)\n",
        "print(f'A média final da turma é de: {media_final_round}')"
      ],
      "metadata": {
        "colab": {
          "base_uri": "https://localhost:8080/"
        },
        "id": "sazgxQbM9ANr",
        "outputId": "87e1afac-c162-4edb-b853-93970fb5eecc"
      },
      "execution_count": 11,
      "outputs": [
        {
          "output_type": "stream",
          "name": "stdout",
          "text": [
            "A média final da turma é de: 7.04\n"
          ]
        }
      ]
    },
    {
      "cell_type": "code",
      "source": [
        "#Alunos reprovados\n",
        "\n",
        "for alunos in alunos_lista:\n",
        "  media = (0.4*float(alunos['n1']) + 0.6*float(alunos['n2']))\n",
        "  alunos['media'] = media\n",
        "\n",
        "  if alunos['media'] > 7.0:\n",
        "    alunos['status'] = \"APROVADO\"\n",
        "  elif alunos['media'] > 5.0 and alunos['media'] <= 6.9:\n",
        "    alunos['status'] = \"RECUPERAÇÃO\"\n",
        "  else:\n",
        "    alunos['status'] = \"REPROVADO\"\n",
        "\n",
        "alunos_lista[:3]"
      ],
      "metadata": {
        "colab": {
          "base_uri": "https://localhost:8080/"
        },
        "id": "rZGmaNNtAqwd",
        "outputId": "47f0caba-c24e-488c-816d-2e03e3dfcdf1"
      },
      "execution_count": 13,
      "outputs": [
        {
          "output_type": "execute_result",
          "data": {
            "text/plain": [
              "[{'matricula': '1',\n",
              "  'nome_aluno': 'Diego Alves',\n",
              "  'n1': '9.0',\n",
              "  'n2': '4.5',\n",
              "  'media': 6.3,\n",
              "  'status': 'RECUPERAÇÃO'},\n",
              " {'matricula': '2',\n",
              "  'nome_aluno': 'Rafinha',\n",
              "  'n1': '5.2',\n",
              "  'n2': '6.4',\n",
              "  'media': 5.92,\n",
              "  'status': 'RECUPERAÇÃO'},\n",
              " {'matricula': '3',\n",
              "  'nome_aluno': 'Rodrigo Caio',\n",
              "  'n1': '6.0',\n",
              "  'n2': '4.5',\n",
              "  'media': 5.1,\n",
              "  'status': 'RECUPERAÇÃO'}]"
            ]
          },
          "metadata": {},
          "execution_count": 13
        }
      ]
    },
    {
      "cell_type": "code",
      "source": [
        "#Lista de Alunos Aprovador e Reprovados\n",
        "aprovado_lista = []\n",
        "reprovado_lista = []\n",
        "\n",
        "for alunos in alunos_lista:\n",
        "  if alunos['status'] == 'APROVADO':\n",
        "    aprovado_lista.append(alunos['nome_aluno'])\n",
        "  elif alunos['status'] == 'RECUPERAÇÃO':\n",
        "    reprovado_lista.append(alunos['nome_aluno'])\n",
        "\n",
        "print(f'Lista de Alunos Aprovados: {aprovado_lista}')\n",
        "print('\\n')\n",
        "print(f'Lista de Alunos Reprovados: {reprovado_lista}')"
      ],
      "metadata": {
        "colab": {
          "base_uri": "https://localhost:8080/"
        },
        "id": "AGKQaZmCJfqH",
        "outputId": "a48fbd82-6eaf-44b0-c8ba-1929ce72f3a7"
      },
      "execution_count": 14,
      "outputs": [
        {
          "output_type": "stream",
          "name": "stdout",
          "text": [
            "Lista de Alunos Aprovados: ['Gerson', 'Everton Ribeiro', 'Arrascaeta', 'Bruno Henrique', 'Gabigol', 'Santos', 'Rodinei', 'Júnior', 'Andrade', 'Adílio', 'Zico']\n",
            "\n",
            "\n",
            "Lista de Alunos Reprovados: ['Diego Alves', 'Rafinha', 'Rodrigo Caio', 'Willian Arão', 'David Luiz', 'Léo Pereira', 'Nunes']\n"
          ]
        }
      ]
    }
  ]
}