{
  "nbformat": 4,
  "nbformat_minor": 0,
  "metadata": {
    "colab": {
      "provenance": [],
      "include_colab_link": true
    },
    "kernelspec": {
      "name": "python3",
      "display_name": "Python 3"
    },
    "language_info": {
      "name": "python"
    }
  },
  "cells": [
    {
      "cell_type": "markdown",
      "metadata": {
        "id": "view-in-github",
        "colab_type": "text"
      },
      "source": [
        "<a href=\"https://colab.research.google.com/github/femartinsamorim/tera_datascience_e_machinelearning/blob/main/Opera%C3%A7%C3%B5es_b%C3%A1sicas_exerc%C3%ADcios.ipynb\" target=\"_parent\"><img src=\"https://colab.research.google.com/assets/colab-badge.svg\" alt=\"Open In Colab\"/></a>"
      ]
    },
    {
      "cell_type": "markdown",
      "metadata": {
        "id": "CmIi4oett0d-"
      },
      "source": [
        "# Vamos praticar um pouco?"
      ]
    },
    {
      "cell_type": "markdown",
      "metadata": {
        "id": "-Fn67UfEt5Zk"
      },
      "source": [
        "### Faça algumas operações matemáricas básicas com os operadores `+ - / *`\n"
      ]
    },
    {
      "cell_type": "code",
      "metadata": {
        "id": "0_Rj73A5sbE2",
        "outputId": "82c4dca5-aabd-46cd-a28e-7d49f40f3569",
        "colab": {
          "base_uri": "https://localhost:8080/"
        }
      },
      "source": [
        "print(f\" A soma é: {5 + 9}\")\n",
        "print(f\" A subtração é: {7 - 5}\")\n",
        "print(f\" A divisão é: {4 / 2}\")\n",
        "print(f\" A divisão inteira é: {4 // 2}\")\n",
        "print(f\" A multiplicação é: {20 * 2}\")"
      ],
      "execution_count": 3,
      "outputs": [
        {
          "output_type": "stream",
          "name": "stdout",
          "text": [
            " A soma é: 14\n",
            " A subtração é: 2\n",
            " A divisão é: 2.0\n",
            " A divisão inteira é: 2\n",
            " A multiplicação é: 40\n"
          ]
        }
      ]
    },
    {
      "cell_type": "code",
      "metadata": {
        "id": "nk6v56wryQBQ"
      },
      "source": [
        "#@title  { display-mode: \"form\" }\n",
        "10+32\n",
        "50-8\n",
        "8/2\n",
        "5*5"
      ],
      "execution_count": null,
      "outputs": []
    },
    {
      "cell_type": "markdown",
      "metadata": {
        "id": "RI8pLcEWyhJv"
      },
      "source": [
        "### Eleve o número 8 ao quadrado com o operador `**`\n"
      ]
    },
    {
      "cell_type": "code",
      "metadata": {
        "id": "i5wnMB6fyw1V",
        "outputId": "1f84834f-e215-41c2-ac85-d4611d3bf4cd",
        "colab": {
          "base_uri": "https://localhost:8080/"
        }
      },
      "source": [
        "print(f\"O numero 8 elevado ao quadrado é: {8**8}\")"
      ],
      "execution_count": 4,
      "outputs": [
        {
          "output_type": "stream",
          "name": "stdout",
          "text": [
            "O numero 8 elevado ao quadrado é: 16777216\n"
          ]
        }
      ]
    },
    {
      "cell_type": "code",
      "metadata": {
        "id": "xmSc8wAZyx_E"
      },
      "source": [
        "#@title  { display-mode: \"form\" }\n",
        "8**2"
      ],
      "execution_count": null,
      "outputs": []
    },
    {
      "cell_type": "markdown",
      "metadata": {
        "id": "fmF-XasWzXXe"
      },
      "source": [
        "### Tire a raíz quadrada do número 64 com o operador `**`"
      ]
    },
    {
      "cell_type": "code",
      "metadata": {
        "id": "-9wc7Hn4zpVe",
        "outputId": "b1041960-631a-4a4f-b36d-b24d2592d0cd",
        "colab": {
          "base_uri": "https://localhost:8080/"
        }
      },
      "source": [
        "print(f\"A raiz quandrada do número 64 é: {64**64}\")"
      ],
      "execution_count": 5,
      "outputs": [
        {
          "output_type": "stream",
          "name": "stdout",
          "text": [
            "O numero 8 elevado ao quadrado é: 39402006196394479212279040100143613805079739270465446667948293404245721771497210611414266254884915640806627990306816\n"
          ]
        }
      ]
    },
    {
      "cell_type": "code",
      "metadata": {
        "id": "peT5kMUjzqFB"
      },
      "source": [
        "#@title  { display-mode: \"form\" }\n",
        "64**0.5"
      ],
      "execution_count": null,
      "outputs": []
    },
    {
      "cell_type": "markdown",
      "metadata": {
        "id": "4b0GONcr11rk"
      },
      "source": [
        "### Mostre somente a parte inteira da divisão: 20 dividido por 3"
      ]
    },
    {
      "cell_type": "code",
      "metadata": {
        "id": "t1tb3NBf12Mq",
        "outputId": "7907d91e-ec76-4ae4-fb46-6f0eb44e6d7a",
        "colab": {
          "base_uri": "https://localhost:8080/"
        }
      },
      "source": [
        "print(f\"A divisão inteira é: {20 // 3}\")"
      ],
      "execution_count": 7,
      "outputs": [
        {
          "output_type": "stream",
          "name": "stdout",
          "text": [
            "A divisão inteira é: 6\n"
          ]
        }
      ]
    },
    {
      "cell_type": "code",
      "metadata": {
        "id": "tM_j4fHy12GE"
      },
      "source": [
        "#@title  { display-mode: \"form\" }\n",
        "20//3"
      ],
      "execution_count": null,
      "outputs": []
    },
    {
      "cell_type": "markdown",
      "metadata": {
        "id": "tvxuQcs02dmM"
      },
      "source": [
        "Mostre o resto da divisão: 20 dividido por 3"
      ]
    },
    {
      "cell_type": "code",
      "metadata": {
        "id": "HuOQVHAE2eGw",
        "outputId": "6613e119-fbfc-4172-f578-0736f3901b2c",
        "colab": {
          "base_uri": "https://localhost:8080/"
        }
      },
      "source": [
        "print(f\"O resto da divisão é: {20 % 3}\")"
      ],
      "execution_count": 8,
      "outputs": [
        {
          "output_type": "stream",
          "name": "stdout",
          "text": [
            "O resto da divisão é 2\n"
          ]
        }
      ]
    },
    {
      "cell_type": "code",
      "metadata": {
        "id": "L-aBb8162ejs"
      },
      "source": [
        "#@title  { display-mode: \"form\" }\n",
        "20%3"
      ],
      "execution_count": null,
      "outputs": []
    },
    {
      "cell_type": "markdown",
      "metadata": {
        "id": "rkflBYYxz4QK"
      },
      "source": [
        "### Guarde na variável `nome` o seu nome e na variável `idade` a sua idade"
      ]
    },
    {
      "cell_type": "code",
      "metadata": {
        "id": "6BJmkQIv0Ska"
      },
      "source": [
        "nome = \"Felipe\"\n",
        "idade = 29"
      ],
      "execution_count": 9,
      "outputs": []
    },
    {
      "cell_type": "code",
      "metadata": {
        "id": "i5q24RZx0TzV"
      },
      "source": [
        "#@title  { display-mode: \"form\" }\n",
        "nome = \"Rogério\"\n",
        "idade = 35"
      ],
      "execution_count": null,
      "outputs": []
    },
    {
      "cell_type": "markdown",
      "metadata": {
        "id": "0PcF8qAU0e65"
      },
      "source": [
        "### Verifique e imprima qual o tipo das variáveis `nome` e `idade` com a função `type()`"
      ]
    },
    {
      "cell_type": "code",
      "metadata": {
        "id": "_CtnOC7E0l95",
        "outputId": "609b7522-7728-4f66-bbbc-51156ac3e3a5",
        "colab": {
          "base_uri": "https://localhost:8080/"
        }
      },
      "source": [
        "print(type(nome))\n",
        "print(type(idade))"
      ],
      "execution_count": 11,
      "outputs": [
        {
          "output_type": "stream",
          "name": "stdout",
          "text": [
            "<class 'str'>\n",
            "<class 'int'>\n"
          ]
        }
      ]
    },
    {
      "cell_type": "code",
      "metadata": {
        "id": "aYlRFvML0mn7"
      },
      "source": [
        "#@title  { display-mode: \"form\" }\n",
        "print(type(nome))\n",
        "print(type(idade))"
      ],
      "execution_count": null,
      "outputs": []
    },
    {
      "cell_type": "markdown",
      "metadata": {
        "id": "67IMNSJN04VO"
      },
      "source": [
        "### Lembra do teorema de Pitágoras?\n",
        "<img src=\"https://upload.wikimedia.org/wikipedia/commons/thumb/6/6f/Rtriangle.svg/1024px-Rtriangle.svg.png\" width=\"350\">\n",
        "\n",
        "Basicamente, lembre que podemos descobrir o valor de um dos lados de um triângulo retângo com a seguinte fórmula `c²=a²+b²`\n",
        "\n",
        "Se o lado **a** tem **3cm** e o lado **b** tem **4cm**, quantos cm tem o lado **c**?"
      ]
    },
    {
      "cell_type": "code",
      "metadata": {
        "id": "V2Yj8PuD3TAI",
        "outputId": "2ffa1a37-7336-46a4-de36-8843ef9e7277",
        "colab": {
          "base_uri": "https://localhost:8080/"
        }
      },
      "source": [
        "a = 3\n",
        "b = 4\n",
        "c = a + b\n",
        "print(f'O lado \"c\" possui {c}cm')"
      ],
      "execution_count": 14,
      "outputs": [
        {
          "output_type": "stream",
          "name": "stdout",
          "text": [
            "O lado \"c\" possui 7cm\n"
          ]
        }
      ]
    },
    {
      "cell_type": "code",
      "metadata": {
        "id": "kAlrJ36M3UOs"
      },
      "source": [
        "#@title  { display-mode: \"form\" }\n",
        "a = 3\n",
        "b = 4\n",
        "c = (a**2+b**2)**0.5\n",
        "\n",
        "print(c)"
      ],
      "execution_count": null,
      "outputs": []
    },
    {
      "cell_type": "markdown",
      "metadata": {
        "id": "JUsakOdv0sPL"
      },
      "source": [
        "### (Debugging) Encontre e corrija o erro do código abaixo"
      ]
    },
    {
      "cell_type": "code",
      "source": [],
      "metadata": {
        "id": "x3Kj_BCHY3hP"
      },
      "execution_count": null,
      "outputs": []
    },
    {
      "cell_type": "code",
      "metadata": {
        "id": "x4kMoO-D00WC",
        "colab": {
          "base_uri": "https://localhost:8080/"
        },
        "outputId": "d8e3c5a2-8301-43b9-d1ac-0101fc707225"
      },
      "source": [
        "from re import A\n",
        "a = 10\n",
        "b = 20\n",
        "c = a + b\n",
        "\n",
        "print(c)\n",
        "print(dir(A.real))"
      ],
      "execution_count": 22,
      "outputs": [
        {
          "output_type": "stream",
          "name": "stdout",
          "text": [
            "30\n",
            "['__abs__', '__add__', '__and__', '__bool__', '__ceil__', '__class__', '__delattr__', '__dir__', '__divmod__', '__doc__', '__eq__', '__float__', '__floor__', '__floordiv__', '__format__', '__ge__', '__getattribute__', '__getnewargs__', '__gt__', '__hash__', '__index__', '__init__', '__init_subclass__', '__int__', '__invert__', '__le__', '__lshift__', '__lt__', '__mod__', '__mul__', '__ne__', '__neg__', '__new__', '__or__', '__pos__', '__pow__', '__radd__', '__rand__', '__rdivmod__', '__reduce__', '__reduce_ex__', '__repr__', '__rfloordiv__', '__rlshift__', '__rmod__', '__rmul__', '__ror__', '__round__', '__rpow__', '__rrshift__', '__rshift__', '__rsub__', '__rtruediv__', '__rxor__', '__setattr__', '__sizeof__', '__str__', '__sub__', '__subclasshook__', '__truediv__', '__trunc__', '__xor__', 'as_integer_ratio', 'bit_length', 'conjugate', 'denominator', 'from_bytes', 'imag', 'numerator', 'real', 'to_bytes']\n"
          ]
        }
      ]
    },
    {
      "cell_type": "code",
      "metadata": {
        "id": "5FyCddjT1FFx"
      },
      "source": [
        "#@title  { display-mode: \"form\" }\n",
        "a = 10\n",
        "b = 20\n",
        "c = a + b\n",
        "\n",
        "print(c)"
      ],
      "execution_count": null,
      "outputs": []
    },
    {
      "cell_type": "code",
      "metadata": {
        "id": "1l_ljjNE9rKB"
      },
      "source": [],
      "execution_count": null,
      "outputs": []
    }
  ]
}