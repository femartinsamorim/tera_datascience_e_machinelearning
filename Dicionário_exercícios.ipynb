{
  "nbformat": 4,
  "nbformat_minor": 0,
  "metadata": {
    "colab": {
      "provenance": [],
      "include_colab_link": true
    },
    "kernelspec": {
      "name": "python3",
      "display_name": "Python 3"
    },
    "language_info": {
      "name": "python"
    }
  },
  "cells": [
    {
      "cell_type": "markdown",
      "metadata": {
        "id": "view-in-github",
        "colab_type": "text"
      },
      "source": [
        "<a href=\"https://colab.research.google.com/github/femartinsamorim/tera_datascience_e_machinelearning/blob/main/Dicion%C3%A1rio_exerc%C3%ADcios.ipynb\" target=\"_parent\"><img src=\"https://colab.research.google.com/assets/colab-badge.svg\" alt=\"Open In Colab\"/></a>"
      ]
    },
    {
      "cell_type": "markdown",
      "metadata": {
        "id": "tIw0UrYG2zi7"
      },
      "source": [
        "# Exercícios de Dicionário"
      ]
    },
    {
      "cell_type": "markdown",
      "metadata": {
        "id": "1pEtZSXU3Exa"
      },
      "source": [
        "## Criação de dicionários"
      ]
    },
    {
      "cell_type": "markdown",
      "metadata": {
        "id": "RNgB9cdH26Uo"
      },
      "source": [
        "### Exercício 1\n",
        "\n",
        "Crie um dicionário chamado `entretenimento` com três `chaves` (filmes, séries, livros) e três `valores` ('Soul', 'The Crown', 'O Pequeno Príncipe'). Para a criação deste dicionário utilize a atribuição direta com as `{}`. \n",
        "\n",
        "Após a criação deste dicionário, imprima o valor associado a chave `'filmes'` utilizando a função print()."
      ]
    },
    {
      "cell_type": "code",
      "metadata": {
        "id": "Ul5WT6rB5rwg"
      },
      "source": [
        "entretetimento = {'filmes':'Soul','Séries':'The Crown','Livros':'O Pequeno Príncipe'}"
      ],
      "execution_count": 1,
      "outputs": []
    },
    {
      "cell_type": "code",
      "metadata": {
        "id": "4-pTlxPH2uaJ"
      },
      "source": [
        "#@title  { display-mode: \"form\" }\n",
        "entretenimento = {'filmes': 'Soul', 'séries': 'The Crown', 'livros': 'O Pequeno Príncipe'}\n",
        "\n",
        "print(entretenimento['filmes'])"
      ],
      "execution_count": null,
      "outputs": []
    },
    {
      "cell_type": "markdown",
      "metadata": {
        "id": "UDyAvJNc3CcW"
      },
      "source": [
        "### Exercício 2\n",
        "\n",
        "Crie o mesmo dicionário `entretenimento` do exercício anterior utilizando a função `dict()`.\n",
        "\n",
        "Após a criação deste dicionário, insira um novo par de `chave` e `valor` ('cantoras' e 'Taylor Swift', respectivamente). Imprima o resultado utilizando a função print()."
      ]
    },
    {
      "cell_type": "code",
      "metadata": {
        "id": "qzFGGUUD5y5O"
      },
      "source": [
        "entretenimento2 = dict({'filmes':'Soul','Séries':'The Crown','Livros':'O Pequeno Príncipe'})\n"
      ],
      "execution_count": 10,
      "outputs": []
    },
    {
      "cell_type": "code",
      "source": [
        "entretenimento2['Cantoras'] = 'Taylor Swift' "
      ],
      "metadata": {
        "id": "TJvQRvIau7TM"
      },
      "execution_count": 14,
      "outputs": []
    },
    {
      "cell_type": "code",
      "source": [
        "print(entretenimento2)"
      ],
      "metadata": {
        "id": "-gKT6XovvQa5",
        "outputId": "eef0a5d9-01ae-4355-cf22-8604ef9a7123",
        "colab": {
          "base_uri": "https://localhost:8080/"
        }
      },
      "execution_count": 12,
      "outputs": [
        {
          "output_type": "stream",
          "name": "stdout",
          "text": [
            "{'filmes': 'Soul', 'Séries': 'The Crown', 'Livros': 'O Pequeno Príncipe', 'Cantoras': 'Taylo Swift'}\n"
          ]
        }
      ]
    },
    {
      "cell_type": "code",
      "metadata": {
        "id": "ZBhn4PQo3JTW"
      },
      "source": [
        "#@title  { display-mode: \"form\" }\n",
        "entretenimento = dict([('filmes', 'Soul'), \n",
        "                       ('séries', 'The Crown'),\n",
        "                       ('livros', 'O Pequeno Príncipe')])\n",
        "\n",
        "entretenimento['cantoras'] = 'Taylor Swift'\n",
        "\n",
        "print(entretenimento)"
      ],
      "execution_count": null,
      "outputs": []
    },
    {
      "cell_type": "markdown",
      "metadata": {
        "id": "NA1ZJaCa3KZT"
      },
      "source": [
        "## Acessando dados de um dicionário"
      ]
    },
    {
      "cell_type": "markdown",
      "metadata": {
        "id": "Cm3Lrh4k3N-M"
      },
      "source": [
        "### Exercício 3\n",
        "\n",
        "Utilizando o dicionário resultante do exercício 2, imprima com a função `print()` o `valor` associado a chave 'cantoras'. Para acessar o `valor` desta `chave`, utilize a função `get()`."
      ]
    },
    {
      "cell_type": "code",
      "metadata": {
        "id": "h158VoNM51WT",
        "outputId": "ecd9f163-06ac-420b-ee8b-2a3062f2fc18",
        "colab": {
          "base_uri": "https://localhost:8080/"
        }
      },
      "source": [
        "print(f\"A lista de Cantoras é: {entretenimento2.get('Cantoras')}\")"
      ],
      "execution_count": 15,
      "outputs": [
        {
          "output_type": "stream",
          "name": "stdout",
          "text": [
            "A lista de Cantoras é: Taylor Swift\n"
          ]
        }
      ]
    },
    {
      "cell_type": "code",
      "metadata": {
        "id": "OOz1HI0w3NL4"
      },
      "source": [
        "#@title  { display-mode: \"form\" }\n",
        "entretenimento = {'filmes': 'Soul', 'séries': 'The Crown', 'livros': 'O Pequeno Príncipe', 'cantoras': 'Taylor Swift'}\n",
        "\n",
        "print(entretenimento.get('cantoras'))"
      ],
      "execution_count": null,
      "outputs": []
    },
    {
      "cell_type": "markdown",
      "metadata": {
        "id": "fo-IgtwTnhS0"
      },
      "source": [
        "## Remover e adicionar elementos a um dicionário"
      ]
    },
    {
      "cell_type": "markdown",
      "metadata": {
        "id": "xmWaKTT2nq8K"
      },
      "source": [
        "### Exercício 4\n",
        "\n",
        "Vamos exercitar a inserção e remoção de novos elementos de dicionários neste exercício. Vamos criar um novo dicionário seguindo os passos:\n",
        "\n",
        "1. inicialize uma variável chamada `entretenimento` como um dicionário vazio;\n",
        "2. insira três pares de `chave` e `valor`: ('filmes': 'Soul'), ('cantoras': 'Taylor Swift') e ('livros': 'O Pequeno Príncipe');\n",
        "3. imprima o valor do dicionário entretenimento; \n",
        "4. remova o a chave 'filmes' do dicionário;\n",
        "5. imprima novamente o valor do dicionário após a remoção.\n",
        "\n"
      ]
    },
    {
      "cell_type": "code",
      "metadata": {
        "id": "q4uFp7Uq54Nk",
        "outputId": "c87e4dc1-dbb8-4d38-a961-0f946039a0a7",
        "colab": {
          "base_uri": "https://localhost:8080/"
        }
      },
      "source": [
        "entretenimento = {}\n",
        "print(entretenimento)"
      ],
      "execution_count": 17,
      "outputs": [
        {
          "output_type": "stream",
          "name": "stdout",
          "text": [
            "{}\n"
          ]
        }
      ]
    },
    {
      "cell_type": "code",
      "source": [
        "entretenimento = {'Filmes':'Soul','Cantoras':'Taylor Swift','Livros':'O Pequeno Príncipe'}\n",
        "print(entretenimento)"
      ],
      "metadata": {
        "id": "vy57-cLGwHbb",
        "outputId": "b7979218-80be-43eb-832f-5b091345305e",
        "colab": {
          "base_uri": "https://localhost:8080/"
        }
      },
      "execution_count": 18,
      "outputs": [
        {
          "output_type": "stream",
          "name": "stdout",
          "text": [
            "{'Filmes': 'Soul', 'Cantoras': 'Taylor Swift', 'Livros': 'O Pequeno Príncipe'}\n"
          ]
        }
      ]
    },
    {
      "cell_type": "code",
      "source": [
        "del entretenimento['Filmes']"
      ],
      "metadata": {
        "id": "0IH_sISLwk5L"
      },
      "execution_count": 19,
      "outputs": []
    },
    {
      "cell_type": "code",
      "source": [
        "print(entretenimento)"
      ],
      "metadata": {
        "id": "1cQXDWFiwrxR",
        "outputId": "3dd63012-c707-425a-cd38-77c2a5dd6d4e",
        "colab": {
          "base_uri": "https://localhost:8080/"
        }
      },
      "execution_count": 20,
      "outputs": [
        {
          "output_type": "stream",
          "name": "stdout",
          "text": [
            "{'Cantoras': 'Taylor Swift', 'Livros': 'O Pequeno Príncipe'}\n"
          ]
        }
      ]
    },
    {
      "cell_type": "code",
      "metadata": {
        "id": "YJu_p0iFnpN4"
      },
      "source": [
        "#@title  { display-mode: \"form\" }\n",
        "entretenimento = {}\n",
        "\n",
        "entretenimento['filmes'] = 'Soul'\n",
        "entretenimento['cantoras'] = 'Taylor Swift'\n",
        "entretenimento['livros'] = 'O Pequeno Príncipe'\n",
        "\n",
        "print(entretenimento)\n",
        "del entretenimento['filmes']\n",
        "print(entretenimento)"
      ],
      "execution_count": null,
      "outputs": []
    },
    {
      "cell_type": "markdown",
      "metadata": {
        "id": "WlstarZcnsNK"
      },
      "source": [
        "### Exercício 5\n",
        "\n",
        "Vamos criar um dicionário que se chama `filmes_por_genero`. Para criar este novo dicionário, utilize a função `dict()` e inicialize a variável `filmes_por_genero` com os seguintes pares:\n",
        "\n",
        "1.   'action': 'Mulan'\n",
        "2.   'romance': 'Clouds'\n",
        "3.   'disney': 'Rava and the Last Dragon'\n",
        "4.   'pixar': 'Soul'\n",
        "\n",
        "Imprima o resultado."
      ]
    },
    {
      "cell_type": "code",
      "metadata": {
        "id": "DPKUOunp56YQ",
        "outputId": "6c33c682-e6be-4936-831b-311c23fa462a",
        "colab": {
          "base_uri": "https://localhost:8080/"
        }
      },
      "source": [
        "filmes_por_genero = dict({'action': 'Mulan','romance': 'Clouds','disney': 'Rava and the Last Dragon','pixar': 'Soul'})\n",
        "print(filmes_por_genero)"
      ],
      "execution_count": 21,
      "outputs": [
        {
          "output_type": "stream",
          "name": "stdout",
          "text": [
            "{'action': 'Mulan', 'romance': 'Clouds', 'disney': 'Rava and the Last Dragon', 'pixar': 'Soul'}\n"
          ]
        }
      ]
    },
    {
      "cell_type": "code",
      "metadata": {
        "id": "HT-XA30ens_Y"
      },
      "source": [
        "#@title  { display-mode: \"form\" }\n",
        "filmes_por_genero = dict([('action', 'Mulan'), ('romance', 'Clouds'), ('disney', 'Rava and the Last Dragon'), ('pixar', 'Soul')])\n",
        "print(filmes_por_genero)"
      ],
      "execution_count": null,
      "outputs": []
    },
    {
      "cell_type": "markdown",
      "metadata": {
        "id": "s3IBaDx-XY4w"
      },
      "source": [
        "## Verifique se uma chave pertence ao dicionário ou não"
      ]
    },
    {
      "cell_type": "markdown",
      "metadata": {
        "id": "otTjt2NDXf9k"
      },
      "source": [
        "### Exercício 6\n",
        "\n",
        "Utilizando o dicionário de filmes por gênero, verifique se a chave 'pixar' pertence ao dicionário. Se sim, adicione mais um par de `chave` e `valor` ao dicionário: ('musical': 'Over the Moon').\n",
        "\n",
        "O dicionário de filmes por gênero é composto dos seguintes pares de `chave` `valor`:\n",
        "\n",
        "1. 'action': 'Mulan'\n",
        "2. 'romance': 'Clouds'\n",
        "3. 'disney': 'Rava and the Last Dragon'\n",
        "4. 'pixar': 'Soul'\n",
        "\n",
        "Execute novamente o seu código inserindo o novo par somente se a chave 'pixar' **NÃO** existir no dicionário de filmes por gênero.\n"
      ]
    },
    {
      "cell_type": "code",
      "metadata": {
        "id": "GnV3bvaq58-r",
        "outputId": "c0306f85-3f3f-4738-8b71-c2e21d7673dd",
        "colab": {
          "base_uri": "https://localhost:8080/"
        }
      },
      "source": [
        "print('pixar' in filmes_por_genero)"
      ],
      "execution_count": 22,
      "outputs": [
        {
          "output_type": "stream",
          "name": "stdout",
          "text": [
            "True\n"
          ]
        }
      ]
    },
    {
      "cell_type": "code",
      "source": [
        "filmes_por_genero['musical'] = 'Over the Moon'"
      ],
      "metadata": {
        "id": "gXvpBA5yxPNN"
      },
      "execution_count": 23,
      "outputs": []
    },
    {
      "cell_type": "code",
      "source": [
        "print(filmes_por_genero)"
      ],
      "metadata": {
        "id": "WaTA382Uxhjp",
        "outputId": "c7de9c4c-4728-4161-f4a1-9f33f6dada02",
        "colab": {
          "base_uri": "https://localhost:8080/"
        }
      },
      "execution_count": 24,
      "outputs": [
        {
          "output_type": "stream",
          "name": "stdout",
          "text": [
            "{'action': 'Mulan', 'romance': 'Clouds', 'disney': 'Rava and the Last Dragon', 'pixar': 'Soul', 'musical': 'Over the Moon'}\n"
          ]
        }
      ]
    },
    {
      "cell_type": "code",
      "metadata": {
        "id": "6o4c5ajoXgMN"
      },
      "source": [
        "#@title  { display-mode: \"form\" }\n",
        "\n",
        "filmes_por_genero = dict([('action', 'Mulan'), ('romance', 'Clouds'), ('disney', 'Rava and the Last Dragon'), ('pixar', 'Soul')])\n",
        "\n",
        "if 'pixar' in filmes_por_genero:\n",
        "  filmes_por_genero['musical'] = 'Over the Moon'\n",
        "\n",
        "print(filmes_por_genero)"
      ],
      "execution_count": null,
      "outputs": []
    },
    {
      "cell_type": "markdown",
      "metadata": {
        "id": "0hPMdJ3Cnwwd"
      },
      "source": [
        "## Diferentes tipos de valores em dicionários"
      ]
    },
    {
      "cell_type": "markdown",
      "metadata": {
        "id": "5LmEmk7Jn3D0"
      },
      "source": [
        "### Exercício 7\n",
        "\n",
        "Recordando que os dicionários podem também ter outros dicionários associados às chaves. Neste exercício você deve atribuir ao dicionário `entretenimento`, na chave 'filmes', o dicionário que criamos de `filmes_por_genero` nos exercícios anteriores. Nosso objetivo é possibilitar que os filmes possam ser categorizados também pelo seu gênero. "
      ]
    },
    {
      "cell_type": "code",
      "metadata": {
        "id": "avt_2wWC5_o7"
      },
      "source": [
        "entretenimento['filmes'] = filmes_por_genero"
      ],
      "execution_count": 25,
      "outputs": []
    },
    {
      "cell_type": "code",
      "source": [
        "print(entretenimento)"
      ],
      "metadata": {
        "id": "qgTiy0-pxwaC",
        "outputId": "ae7b26ad-eb81-4b63-98dc-998d2085a33a",
        "colab": {
          "base_uri": "https://localhost:8080/"
        }
      },
      "execution_count": 26,
      "outputs": [
        {
          "output_type": "stream",
          "name": "stdout",
          "text": [
            "{'Cantoras': 'Taylor Swift', 'Livros': 'O Pequeno Príncipe', 'filmes': {'action': 'Mulan', 'romance': 'Clouds', 'disney': 'Rava and the Last Dragon', 'pixar': 'Soul', 'musical': 'Over the Moon'}}\n"
          ]
        }
      ]
    },
    {
      "cell_type": "code",
      "metadata": {
        "id": "2UsoHdExn2KM"
      },
      "source": [
        "#@title  { display-mode: \"form\" }\n",
        "entretenimento = {'filmes': 'Soul', 'séries': 'The Crown', 'livros': 'O Pequeno Príncipe', 'cantoras': 'Taylor Swift'}\n",
        "\n",
        "filmes_por_genero = dict([('action', 'Mulan'), ('romance', 'Clouds'), ('disney', 'Rava and the Last Dragon'), ('pixar', 'Soul')])\n",
        "\n",
        "entretenimento['filmes'] = filmes_por_genero\n",
        "\n",
        "print(entretenimento['filmes'])\n",
        "print(entretenimento['filmes']['romance'])"
      ],
      "execution_count": null,
      "outputs": []
    }
  ]
}