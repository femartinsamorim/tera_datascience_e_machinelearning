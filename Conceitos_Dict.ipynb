{
  "nbformat": 4,
  "nbformat_minor": 0,
  "metadata": {
    "colab": {
      "provenance": [],
      "authorship_tag": "ABX9TyO8JavQYGA4A8uViMUMlpCG",
      "include_colab_link": true
    },
    "kernelspec": {
      "name": "python3",
      "display_name": "Python 3"
    },
    "language_info": {
      "name": "python"
    }
  },
  "cells": [
    {
      "cell_type": "markdown",
      "metadata": {
        "id": "view-in-github",
        "colab_type": "text"
      },
      "source": [
        "<a href=\"https://colab.research.google.com/github/femartinsamorim/tera_datascience_e_machinelearning/blob/main/Conceitos_Dict.ipynb\" target=\"_parent\"><img src=\"https://colab.research.google.com/assets/colab-badge.svg\" alt=\"Open In Colab\"/></a>"
      ]
    },
    {
      "cell_type": "code",
      "execution_count": 1,
      "metadata": {
        "id": "hQAgYV2bpENY"
      },
      "outputs": [],
      "source": [
        "entreterimento = {'Musica': {'Artista': ['Paramore','Metallica','Motionless in White','Justin Bieber'], \\\n",
        "                             'Genero': ['Rock','Metal','Pop']},'Festival':'Rock in Rio'}"
      ]
    },
    {
      "cell_type": "code",
      "source": [
        "print(entreterimento['Musica'])"
      ],
      "metadata": {
        "colab": {
          "base_uri": "https://localhost:8080/"
        },
        "id": "s_HHlvmxqFKU",
        "outputId": "0a2a38aa-814a-4dc4-8872-1d5db2340ba7"
      },
      "execution_count": 2,
      "outputs": [
        {
          "output_type": "stream",
          "name": "stdout",
          "text": [
            "{'Artista': ['Paramore', 'Metallica', 'Motionless in White', 'Justin Bieber'], 'Genero': ['Rock', 'Metal', 'Pop']}\n"
          ]
        }
      ]
    },
    {
      "cell_type": "code",
      "source": [
        "print(entreterimento['Musica']['Artista'])"
      ],
      "metadata": {
        "colab": {
          "base_uri": "https://localhost:8080/"
        },
        "id": "2oVueJGlqPAa",
        "outputId": "490ff32f-37d8-4ed0-aecd-b81ee4a9ffdb"
      },
      "execution_count": 3,
      "outputs": [
        {
          "output_type": "stream",
          "name": "stdout",
          "text": [
            "['Paramore', 'Metallica', 'Motionless in White', 'Justin Bieber']\n"
          ]
        }
      ]
    },
    {
      "cell_type": "code",
      "source": [
        "print(entreterimento['Musica']['Artista'][0])"
      ],
      "metadata": {
        "colab": {
          "base_uri": "https://localhost:8080/"
        },
        "id": "T6WcshciqgXB",
        "outputId": "7b754a0b-bef2-494f-e4ca-e73ded098c41"
      },
      "execution_count": 4,
      "outputs": [
        {
          "output_type": "stream",
          "name": "stdout",
          "text": [
            "Paramore\n"
          ]
        }
      ]
    },
    {
      "cell_type": "code",
      "source": [
        "print('Musica' in entreterimento)"
      ],
      "metadata": {
        "colab": {
          "base_uri": "https://localhost:8080/"
        },
        "id": "WHfBV7hHqpFi",
        "outputId": "3a1885b7-1063-471d-d35f-752dac209b8a"
      },
      "execution_count": 6,
      "outputs": [
        {
          "output_type": "stream",
          "name": "stdout",
          "text": [
            "True\n"
          ]
        }
      ]
    },
    {
      "cell_type": "code",
      "source": [
        "print(entreterimento.get('Musica', 'N/A'))\n",
        "print(entreterimento.get('Festival', 'N/A'))\n",
        "print(entreterimento.get('Cidade', 'N/A'))"
      ],
      "metadata": {
        "colab": {
          "base_uri": "https://localhost:8080/"
        },
        "id": "vBIyZ_CIrUHz",
        "outputId": "d4c7dda2-4ffb-4066-b6af-edffd6c6808d"
      },
      "execution_count": 22,
      "outputs": [
        {
          "output_type": "stream",
          "name": "stdout",
          "text": [
            "{'Artista': ['Paramore', 'Metallica', 'Motionless in White', 'Justin Bieber'], 'Genero': ['Rock', 'Metal', 'Pop']}\n",
            "Rock in Rio\n",
            "N/A\n"
          ]
        }
      ]
    },
    {
      "cell_type": "code",
      "source": [
        "entreterimento['Data'] = 2024\n",
        "print(entreterimento)"
      ],
      "metadata": {
        "colab": {
          "base_uri": "https://localhost:8080/"
        },
        "id": "c8H1EzNqr3lt",
        "outputId": "c2dadbfc-87db-49cc-d3e4-07ff6d800d1c"
      },
      "execution_count": 16,
      "outputs": [
        {
          "output_type": "stream",
          "name": "stdout",
          "text": [
            "{'Musica': {'Artista': ['Paramore', 'Metallica', 'Motionless in White', 'Justin Bieber'], 'Genero': ['Rock', 'Metal', 'Pop']}, 'Festival': 'Rock in Rio', 'Data': 2024}\n"
          ]
        }
      ]
    },
    {
      "cell_type": "code",
      "source": [
        "deletado = entreterimento.pop('Data')\n",
        "print(deletado)"
      ],
      "metadata": {
        "colab": {
          "base_uri": "https://localhost:8080/"
        },
        "id": "-cAzVetZsjd4",
        "outputId": "b659f4bd-f49e-45c1-b026-36e5f83a2859"
      },
      "execution_count": 19,
      "outputs": [
        {
          "output_type": "stream",
          "name": "stdout",
          "text": [
            "2024\n"
          ]
        }
      ]
    },
    {
      "cell_type": "code",
      "source": [
        "print(entreterimento)"
      ],
      "metadata": {
        "colab": {
          "base_uri": "https://localhost:8080/"
        },
        "id": "dBgroEHvtKUa",
        "outputId": "71c1a851-8a27-4e91-a706-d91292860d78"
      },
      "execution_count": 20,
      "outputs": [
        {
          "output_type": "stream",
          "name": "stdout",
          "text": [
            "{'Musica': {'Artista': ['Paramore', 'Metallica', 'Motionless in White', 'Justin Bieber'], 'Genero': ['Rock', 'Metal', 'Pop']}, 'Festival': 'Rock in Rio'}\n"
          ]
        }
      ]
    }
  ]
}