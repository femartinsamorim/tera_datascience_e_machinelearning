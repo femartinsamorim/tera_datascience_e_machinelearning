{
  "nbformat": 4,
  "nbformat_minor": 0,
  "metadata": {
    "colab": {
      "provenance": [],
      "include_colab_link": true
    },
    "kernelspec": {
      "name": "python3",
      "display_name": "Python 3"
    },
    "language_info": {
      "name": "python"
    }
  },
  "cells": [
    {
      "cell_type": "markdown",
      "metadata": {
        "id": "view-in-github",
        "colab_type": "text"
      },
      "source": [
        "<a href=\"https://colab.research.google.com/github/femartinsamorim/tera_datascience_e_machinelearning/blob/main/Fun%C3%A7%C3%B5es_Exerc%C3%ADcios.ipynb\" target=\"_parent\"><img src=\"https://colab.research.google.com/assets/colab-badge.svg\" alt=\"Open In Colab\"/></a>"
      ]
    },
    {
      "cell_type": "markdown",
      "metadata": {
        "id": "TB_-4RLajcD0"
      },
      "source": [
        "# Funções - Exercícios"
      ]
    },
    {
      "cell_type": "markdown",
      "metadata": {
        "id": "6CIshkdykSCO"
      },
      "source": [
        "### Crie uma função de nome `pedir_agua` e que apenas imprima \"Estou com sede!\"\n",
        "\n",
        "Depois, chame está função"
      ]
    },
    {
      "cell_type": "code",
      "metadata": {
        "id": "fNwBo5lSjX8I",
        "colab": {
          "base_uri": "https://localhost:8080/"
        },
        "outputId": "6f04970d-ca6c-47be-b4df-04c5524582e0"
      },
      "source": [
        "def pedir_agua():\n",
        "  print(\"Estou com sede!\")\n",
        "\n",
        "\n",
        "pedir_agua()"
      ],
      "execution_count": 11,
      "outputs": [
        {
          "output_type": "stream",
          "name": "stdout",
          "text": [
            "Estou com sede!\n"
          ]
        }
      ]
    },
    {
      "cell_type": "code",
      "metadata": {
        "id": "KFB_Yw_JkiFw"
      },
      "source": [
        "#@title  { display-mode: \"form\" }\n",
        "def pedir_agua():\n",
        "  print(\"Estou com sede\")\n",
        "\n",
        "pedir_agua()"
      ],
      "execution_count": null,
      "outputs": []
    },
    {
      "cell_type": "markdown",
      "metadata": {
        "id": "ZgUKyWAqk0Xy"
      },
      "source": [
        "### Crie uma função que multiplique três números\n",
        "Depois, chame essa função com os parâmetros: 10, 5, 12"
      ]
    },
    {
      "cell_type": "code",
      "metadata": {
        "id": "LTFQb6Rok61B",
        "colab": {
          "base_uri": "https://localhost:8080/"
        },
        "outputId": "9797aa12-4c5e-4ade-866c-184b809fdc2b"
      },
      "source": [
        "def multiplicacao(x,y,z):\n",
        "  return x * y * z\n",
        "\n",
        "multiplicacao(2,6,10)"
      ],
      "execution_count": 12,
      "outputs": [
        {
          "output_type": "execute_result",
          "data": {
            "text/plain": [
              "120"
            ]
          },
          "metadata": {},
          "execution_count": 12
        }
      ]
    },
    {
      "cell_type": "code",
      "metadata": {
        "id": "oSUDysV8lScT"
      },
      "source": [
        "#@title  { display-mode: \"form\" }\n",
        "def multiplicar_numeros(a,b,c):\n",
        "  return a*b*c\n",
        "\n",
        "multiplicar_numeros(10, 5, 12)"
      ],
      "execution_count": null,
      "outputs": []
    },
    {
      "cell_type": "markdown",
      "metadata": {
        "id": "7z_areP2lSE1"
      },
      "source": [
        "### Crie uma função que receba uma temperatura em Celsius e retorne em Fahrenheit\n",
        "\n",
        "Converta as seguintes temperaturas 0°, 21°, 38°, 50°\n",
        "\n",
        "Dica: Para converter de Celsius para Fahrenheit, multiplique por 1.8 e some 32"
      ]
    },
    {
      "cell_type": "code",
      "metadata": {
        "id": "IxtPprj-l8rA",
        "colab": {
          "base_uri": "https://localhost:8080/"
        },
        "outputId": "40803ab6-950b-433c-dd3e-184e625862ee"
      },
      "source": [
        "def temperatura_converte(x=0,z=21,y=38,s=50):\n",
        "  print((x * 1.8) + 32)\n",
        "  print((z * 1.8) + 32)\n",
        "  print((y * 1.8) + 32)\n",
        "  print((s * 1.8) + 32)\n",
        "\n",
        "\n",
        "temperatura_converte()"
      ],
      "execution_count": 14,
      "outputs": [
        {
          "output_type": "stream",
          "name": "stdout",
          "text": [
            "32.0\n",
            "69.80000000000001\n",
            "100.4\n",
            "122.0\n"
          ]
        }
      ]
    },
    {
      "cell_type": "code",
      "metadata": {
        "id": "eSIWeyjhl9dE"
      },
      "source": [
        "#@title  { display-mode: \"form\" }\n",
        "def converter_c_para_f(celsius):\n",
        "  fahrenheit = (celsius * 1.8 ) + 32\n",
        "  return fahrenheit\n",
        "\n",
        "print(converter_c_para_f(0))\n",
        "print(converter_c_para_f(21))\n",
        "print(converter_c_para_f(38))\n",
        "print(converter_c_para_f(50))"
      ],
      "execution_count": null,
      "outputs": []
    },
    {
      "cell_type": "markdown",
      "metadata": {
        "id": "zPq8jF68fLJ0"
      },
      "source": [
        "### Crie uma função com nome `converter_valor_absoluto` que recebe um número e retorna o valor absoluto deste número, ou seja:\n",
        "- se receber o número 8 retornará 8;\n",
        "- se receber o número -8, retornará 8 também.\n",
        "\n",
        "Teste  com os número `5` e `-5`"
      ]
    },
    {
      "cell_type": "code",
      "metadata": {
        "id": "YIb2y-p5fLbf",
        "colab": {
          "base_uri": "https://localhost:8080/"
        },
        "outputId": "bb5235e4-38bc-44d8-c0fc-c9ea35b02fe6"
      },
      "source": [
        "def converter_valor_absoluto(x=-5):\n",
        "  return f' O valor absoluto de \"{x}\" é \"{abs(x)}\"'\n",
        "\n",
        "\n",
        "print(converter_valor_absoluto())"
      ],
      "execution_count": 19,
      "outputs": [
        {
          "output_type": "stream",
          "name": "stdout",
          "text": [
            " O valor absoluto de \"-5\" é \"5\"\n"
          ]
        }
      ]
    },
    {
      "cell_type": "code",
      "metadata": {
        "id": "YGUtJ-_BfLwR"
      },
      "source": [
        "#@title  { display-mode: \"form\" }\n",
        "\n",
        "def converter_valor_absoluto(num):\n",
        "  if num >= 0:\n",
        "    return num\n",
        "  else:\n",
        "    return -num\n",
        "\n",
        "print(converter_valor_absoluto(5))\n",
        "print(converter_valor_absoluto(-5))"
      ],
      "execution_count": null,
      "outputs": []
    },
    {
      "cell_type": "code",
      "metadata": {
        "id": "Idql7c1BftIT"
      },
      "source": [],
      "execution_count": null,
      "outputs": []
    }
  ]
}