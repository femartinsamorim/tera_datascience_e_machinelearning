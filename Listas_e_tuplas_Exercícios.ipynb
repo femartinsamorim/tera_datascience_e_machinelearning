{
  "nbformat": 4,
  "nbformat_minor": 0,
  "metadata": {
    "colab": {
      "provenance": [],
      "include_colab_link": true
    },
    "kernelspec": {
      "name": "python3",
      "display_name": "Python 3"
    },
    "language_info": {
      "name": "python"
    }
  },
  "cells": [
    {
      "cell_type": "markdown",
      "metadata": {
        "id": "view-in-github",
        "colab_type": "text"
      },
      "source": [
        "<a href=\"https://colab.research.google.com/github/femartinsamorim/tera_datascience_e_machinelearning/blob/main/Listas_e_tuplas_Exerc%C3%ADcios.ipynb\" target=\"_parent\"><img src=\"https://colab.research.google.com/assets/colab-badge.svg\" alt=\"Open In Colab\"/></a>"
      ]
    },
    {
      "cell_type": "markdown",
      "metadata": {
        "id": "y4yXQaM1oZJt"
      },
      "source": [
        "#Listas e tuplas\n",
        "Alguns exercícios para você praticar o que apredendeu sobre listas e tuplas"
      ]
    },
    {
      "cell_type": "markdown",
      "metadata": {
        "id": "foQHMOI1lPZ6"
      },
      "source": [
        "### Crie uma lista\n",
        "\n",
        "Criar uma lista com suas comidas favoritas e salve na variavel comida"
      ]
    },
    {
      "cell_type": "code",
      "metadata": {
        "id": "7zHHF7qfnRZe",
        "outputId": "783c5067-9f34-4ab2-b1f6-044718032324",
        "colab": {
          "base_uri": "https://localhost:8080/"
        }
      },
      "source": [
        "#Escreva seu código aqui\n",
        "comida = [\"Frango\",\"Macarrão\",\"Batata Doce\",\"Whey\"]\n",
        "print(comida)"
      ],
      "execution_count": 2,
      "outputs": [
        {
          "output_type": "stream",
          "name": "stdout",
          "text": [
            "['Frango', 'Macarrão', 'Batata Doce', 'Whey']\n"
          ]
        }
      ]
    },
    {
      "cell_type": "code",
      "metadata": {
        "id": "4IR78Lj5kmoo"
      },
      "source": [
        "#@title  { display-mode: \"form\" }\n",
        "comidas = ['pudim', 'batata', 'lasanha']"
      ],
      "execution_count": null,
      "outputs": []
    },
    {
      "cell_type": "markdown",
      "metadata": {
        "id": "B9ylDfDaoIr7"
      },
      "source": [
        "### Crie uma nova lista com a quantidade de calorias de cada comida que você citou no exercício anterior e salve na variável `calorias`"
      ]
    },
    {
      "cell_type": "code",
      "metadata": {
        "id": "ht2rHZGGnNhP",
        "outputId": "381fca5f-8522-4c8f-91d3-416bd35ab1d9",
        "colab": {
          "base_uri": "https://localhost:8080/"
        }
      },
      "source": [
        "calorias = [85,110,78,76]\n",
        "print(calorias)"
      ],
      "execution_count": 3,
      "outputs": [
        {
          "output_type": "stream",
          "name": "stdout",
          "text": [
            "[85, 110, 78, 76]\n"
          ]
        }
      ]
    },
    {
      "cell_type": "code",
      "metadata": {
        "id": "n1tUmT89ou-X"
      },
      "source": [
        "#@title  { display-mode: \"form\" }\n",
        "calorias = [1500, 300, 800]"
      ],
      "execution_count": null,
      "outputs": []
    },
    {
      "cell_type": "markdown",
      "metadata": {
        "id": "pebRpt7lo7Gu"
      },
      "source": [
        "### Com a função `sum` descubra a quantidade total de calorias"
      ]
    },
    {
      "cell_type": "code",
      "metadata": {
        "id": "FB9niMMjpKEb",
        "outputId": "913fdebf-ab25-4382-cf69-1a4b964053bf",
        "colab": {
          "base_uri": "https://localhost:8080/"
        }
      },
      "source": [
        "print(f\"A quatidade de calorias é: {sum(calorias)}\")"
      ],
      "execution_count": 5,
      "outputs": [
        {
          "output_type": "stream",
          "name": "stdout",
          "text": [
            "A quatidade de calorias é: 349\n"
          ]
        }
      ]
    },
    {
      "cell_type": "code",
      "metadata": {
        "id": "FkGxFRVspLC6"
      },
      "source": [
        "#@title  { display-mode: \"form\" }\n",
        "sum(calorias)"
      ],
      "execution_count": null,
      "outputs": []
    },
    {
      "cell_type": "markdown",
      "metadata": {
        "id": "W0rV1snTpqY0"
      },
      "source": [
        "### Use os colchetes para para selecionar o primeiro item da variável `minha_lista`\n",
        "Dica: Lembre que o Python começa a contar no `0`"
      ]
    },
    {
      "cell_type": "code",
      "metadata": {
        "id": "qLkOUvjSppp0"
      },
      "source": [
        "# Rode essa célula\n",
        "a = 25\n",
        "minha_lista = [1, 2, 3, 'quatro', 5.1, [None, a]]"
      ],
      "execution_count": 9,
      "outputs": []
    },
    {
      "cell_type": "code",
      "metadata": {
        "id": "tnVyK51JDL7C",
        "outputId": "5e45331c-98e6-4383-cd9c-f782d4970291",
        "colab": {
          "base_uri": "https://localhost:8080/"
        }
      },
      "source": [
        "print(minha_lista[0])"
      ],
      "execution_count": 10,
      "outputs": [
        {
          "output_type": "stream",
          "name": "stdout",
          "text": [
            "1\n"
          ]
        }
      ]
    },
    {
      "cell_type": "code",
      "metadata": {
        "id": "vDKMXrAXDgiz"
      },
      "source": [
        "#@title  { display-mode: \"form\" }\n",
        "minha_lista[0]"
      ],
      "execution_count": null,
      "outputs": []
    },
    {
      "cell_type": "markdown",
      "metadata": {
        "id": "tGptabUPCfwv"
      },
      "source": [
        "### Utilize o slice para selecionar do terceiro ao último item da `minha_lista`"
      ]
    },
    {
      "cell_type": "code",
      "metadata": {
        "id": "vBgRafgcD_NS",
        "outputId": "3cccdd11-b168-445e-c921-b0e7510fe85a",
        "colab": {
          "base_uri": "https://localhost:8080/"
        }
      },
      "source": [
        "minha_lista[2:]"
      ],
      "execution_count": 12,
      "outputs": [
        {
          "output_type": "execute_result",
          "data": {
            "text/plain": [
              "[3, 'quatro', 5.1, [None, 25]]"
            ]
          },
          "metadata": {},
          "execution_count": 12
        }
      ]
    },
    {
      "cell_type": "code",
      "metadata": {
        "id": "yc_KRsSHD_2s"
      },
      "source": [
        "#@title  { display-mode: \"form\" }\n",
        "minha_lista[2:]"
      ],
      "execution_count": null,
      "outputs": []
    },
    {
      "cell_type": "code",
      "metadata": {
        "id": "cn2CcZLZEB9O"
      },
      "source": [],
      "execution_count": null,
      "outputs": []
    },
    {
      "cell_type": "markdown",
      "metadata": {
        "id": "7EbnjKeiN6_c"
      },
      "source": [
        "#  Na seguinte lista multidimensional, acesse o item em negrito\n",
        "[[1,2,3],[4,5,6],[7,8,[9,**10**]]]\n",
        "<br><br>\n",
        "Dica: o índice `-1` seleciona o último elemento da lista"
      ]
    },
    {
      "cell_type": "code",
      "metadata": {
        "id": "Ya7F_kIhO2P_"
      },
      "source": [
        "#Rode esta célula\n",
        "lista_mult = [[1,2,3],[4,5,6],[7,8,[9,10]]]"
      ],
      "execution_count": 15,
      "outputs": []
    },
    {
      "cell_type": "code",
      "metadata": {
        "id": "iVZdm8ZhO_X2",
        "outputId": "cc69033e-72db-4f7e-986d-c57519d5b577",
        "colab": {
          "base_uri": "https://localhost:8080/"
        }
      },
      "source": [
        "lista_mult[-1][-1][1]"
      ],
      "execution_count": 19,
      "outputs": [
        {
          "output_type": "execute_result",
          "data": {
            "text/plain": [
              "10"
            ]
          },
          "metadata": {},
          "execution_count": 19
        }
      ]
    },
    {
      "cell_type": "code",
      "metadata": {
        "id": "cxZvnD8mO_Ax"
      },
      "source": [
        "#@title  { display-mode: \"form\" }\n",
        "lista_mult[-1][-1][-1]"
      ],
      "execution_count": null,
      "outputs": []
    },
    {
      "cell_type": "markdown",
      "metadata": {
        "id": "0JvMlY5lKhJ1"
      },
      "source": [
        "### Em uma linha, desempacote os valores de `minha_tupla` nas variáveis `x`, `y` e `z`"
      ]
    },
    {
      "cell_type": "code",
      "metadata": {
        "id": "i2NpAnpGMxcf"
      },
      "source": [
        "#Rode esta célula\n",
        "minha_tupla = (10,20,30)"
      ],
      "execution_count": 20,
      "outputs": []
    },
    {
      "cell_type": "code",
      "metadata": {
        "id": "EmPTc131NSsp",
        "outputId": "b7ceb3e8-2a5c-46cf-838d-c2f6ce996ccf",
        "colab": {
          "base_uri": "https://localhost:8080/"
        }
      },
      "source": [
        "x,y,z = minha_tupla\n",
        "print(x,y,z)"
      ],
      "execution_count": 24,
      "outputs": [
        {
          "output_type": "stream",
          "name": "stdout",
          "text": [
            "10 20 30\n"
          ]
        }
      ]
    },
    {
      "cell_type": "code",
      "metadata": {
        "id": "gFFCuIyyM6JQ"
      },
      "source": [
        "#@title  { display-mode: \"form\" }\n",
        "x,y,z = minha_tupla"
      ],
      "execution_count": null,
      "outputs": []
    },
    {
      "cell_type": "markdown",
      "metadata": {
        "id": "ru4wUDLTHzDa"
      },
      "source": [
        "### (Bônus) Você pode usar o slice em uma `string` assim como na lista. Selecione as 6 primeiras letras da variável `texto2`"
      ]
    },
    {
      "cell_type": "code",
      "metadata": {
        "colab": {
          "base_uri": "https://localhost:8080/"
        },
        "id": "ptZJBHzlIIX0",
        "outputId": "bae7e817-faf5-4b07-b0e8-7328fd59189a"
      },
      "source": [
        "texto = \"Estou estudando Python!\"\n",
        "print(texto[0])\n",
        "print(texto[12])\n",
        "print(texto[12:21])"
      ],
      "execution_count": 25,
      "outputs": [
        {
          "output_type": "stream",
          "name": "stdout",
          "text": [
            "E\n",
            "n\n",
            "ndo Pytho\n"
          ]
        }
      ]
    },
    {
      "cell_type": "code",
      "metadata": {
        "id": "969g49e1ITof"
      },
      "source": [
        "#Rode essa célula\n",
        "texto2 = \"Listas e strings são legais\""
      ],
      "execution_count": 26,
      "outputs": []
    },
    {
      "cell_type": "code",
      "metadata": {
        "id": "pf0xcIOcJKhw"
      },
      "source": [
        "#@title  { display-mode: \"form\" }\n",
        "texto2[0:6]"
      ],
      "execution_count": null,
      "outputs": []
    },
    {
      "cell_type": "code",
      "metadata": {
        "id": "sOB4VxveJOVg",
        "outputId": "8930b718-0f59-45a1-91e3-a5813960e6c8",
        "colab": {
          "base_uri": "https://localhost:8080/"
        }
      },
      "source": [
        "print(texto2[:6])"
      ],
      "execution_count": 28,
      "outputs": [
        {
          "output_type": "stream",
          "name": "stdout",
          "text": [
            "Listas\n"
          ]
        }
      ]
    },
    {
      "cell_type": "markdown",
      "metadata": {
        "id": "AjcDIrJfJ93J"
      },
      "source": [
        "### (Debugging) Encontre e arrume o erro no código abaixo"
      ]
    },
    {
      "cell_type": "code",
      "metadata": {
        "id": "-QmDhOC3KGcD"
      },
      "source": [
        "bebidas = ['água', 'refrigerante', 'suco']\n",
        "\n",
        "terceira_bebida = bebidas[2]"
      ],
      "execution_count": 29,
      "outputs": []
    },
    {
      "cell_type": "code",
      "metadata": {
        "id": "gls4e5GWKYXx",
        "outputId": "5902c68d-e81d-4fa4-d37f-90d4578d024d",
        "colab": {
          "base_uri": "https://localhost:8080/"
        }
      },
      "source": [
        "print(terceira_bebida)"
      ],
      "execution_count": 31,
      "outputs": [
        {
          "output_type": "stream",
          "name": "stdout",
          "text": [
            "suco\n"
          ]
        }
      ]
    }
  ]
}