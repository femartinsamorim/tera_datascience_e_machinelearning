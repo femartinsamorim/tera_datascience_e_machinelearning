# Oi! Sou um comentário. O Python ignora toda linha que começa com #
# Escreva seu código na linha abaixo
def nome_fun():
  name = str(input("Informe seu nome: "))
  print(f'Desejo toda sorte a você {name}')
  name_maius = name.upper()

  sobrenome = str(input("Qual é seu sobrenome? "))
  print( "Que legal {}, seu sobrenome é {}, show de bola!".format(name,sobrenome))

  if name_maius == "FELIPE":
    print('\n')
    return f'{name}! Outra coisa, Seu nome é foda!'
  else:
    pass


nome_fun()
