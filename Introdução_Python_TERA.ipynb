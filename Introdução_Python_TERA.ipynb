{
  "nbformat": 4,
  "nbformat_minor": 0,
  "metadata": {
    "colab": {
      "provenance": [],
      "include_colab_link": true
    },
    "kernelspec": {
      "name": "python3",
      "display_name": "Python 3"
    },
    "language_info": {
      "name": "python"
    }
  },
  "cells": [
    {
      "cell_type": "markdown",
      "metadata": {
        "id": "view-in-github",
        "colab_type": "text"
      },
      "source": [
        "<a href=\"https://colab.research.google.com/github/femartinsamorim/tera_datascience_e_machinelearning/blob/main/Introdu%C3%A7%C3%A3o_Python_TERA.ipynb\" target=\"_parent\"><img src=\"https://colab.research.google.com/assets/colab-badge.svg\" alt=\"Open In Colab\"/></a>"
      ]
    },
    {
      "cell_type": "markdown",
      "metadata": {
        "id": "9PBUzHGwxetz"
      },
      "source": [
        "# Escrevendo Olá, mundo!"
      ]
    },
    {
      "cell_type": "code",
      "metadata": {
        "colab": {
          "base_uri": "https://localhost:8080/"
        },
        "id": "1UC_7Cl0uQZy",
        "outputId": "67415322-a015-4047-e0bc-21230b256c3a"
      },
      "source": [
        "print(\"Olá, mundo!\")"
      ],
      "execution_count": null,
      "outputs": [
        {
          "output_type": "stream",
          "text": [
            "Olá, mundo!\n"
          ],
          "name": "stdout"
        }
      ]
    },
    {
      "cell_type": "markdown",
      "metadata": {
        "id": "0kQUQHd8xl5i"
      },
      "source": [
        "# Exercícios\n",
        "Faça o Python escrever o seu nome!\n"
      ]
    },
    {
      "cell_type": "code",
      "metadata": {
        "id": "E7iB5jo5xlAV",
        "colab": {
          "base_uri": "https://localhost:8080/",
          "height": 145
        },
        "outputId": "675f6669-ed45-42fa-a199-c2dd65fde786"
      },
      "source": [
        "# Oi! Sou um comentário. O Python ignora toda linha que começa com #\n",
        "# Escreva seu código na linha abaixo\n",
        "def nome_fun():\n",
        "  name = str(input(\"Informe seu nome: \"))\n",
        "  print(f'Desejo toda sorte a você {name}')\n",
        "  name_maius = name.upper()\n",
        "\n",
        "  sobrenome = str(input(\"Qual é seu sobrenome? \"))\n",
        "  print( \"Que legal {}, seu sobrenome é {}, show de bola!\".format(name,sobrenome))\n",
        "\n",
        "  if name_maius == \"FELIPE\":\n",
        "    print('\\n')\n",
        "    return f'{name}! Outra coisa, Seu nome é foda!'\n",
        "  else:\n",
        "    pass\n",
        "\n",
        "\n",
        "nome_fun()"
      ],
      "execution_count": 3,
      "outputs": [
        {
          "output_type": "stream",
          "name": "stdout",
          "text": [
            "Informe seu nome: Felipe\n",
            "Desejo toda sorte a você Felipe\n",
            "Qual é seu sobrenome? Amorim\n",
            "Que legal Felipe, seu sobrenome é Amorim, show de bola!\n",
            "\n",
            "\n"
          ]
        },
        {
          "output_type": "execute_result",
          "data": {
            "text/plain": [
              "'{name}! Outra coisa, Seu nome é foda!'"
            ],
            "application/vnd.google.colaboratory.intrinsic+json": {
              "type": "string"
            }
          },
          "metadata": {},
          "execution_count": 3
        }
      ]
    },
    {
      "cell_type": "markdown",
      "metadata": {
        "id": "FBf4EHMVy1QS"
      },
      "source": [
        "# Precisa de ajuda?"
      ]
    },
    {
      "cell_type": "code",
      "metadata": {
        "id": "VSzYGrtKy3yO",
        "colab": {
          "base_uri": "https://localhost:8080/"
        },
        "outputId": "cbe275f8-100f-41db-db6e-b8af31539d63"
      },
      "source": [
        "#@title  { display-mode: \"form\" }\n",
        "print(\"Oi, Meu nome é Edu!\")"
      ],
      "execution_count": 4,
      "outputs": [
        {
          "metadata": {
            "tags": null
          },
          "name": "stdout",
          "output_type": "stream",
          "text": [
            "Oi, Meu nome é Edu!\n"
          ]
        }
      ]
    },
    {
      "cell_type": "code",
      "metadata": {
        "id": "7-4oj9DKzBmy"
      },
      "source": [],
      "execution_count": null,
      "outputs": []
    },
    {
      "cell_type": "markdown",
      "metadata": {
        "id": "I-oECXJWyi_x"
      },
      "source": [
        "### Apredendo a **Debugar** (Perdendo o medo do erro)\n",
        "Às vezes podemos cometer alguns erros no nosso código e isso é super normal. Aprender como pesquisar para conseguir resolvê-los ajuda muito nos estudos!\n",
        "\n",
        "Vamos colocar um erro intencionalmente no nosso código  e ver o que acontece. Escreva na célula abaixo: \\\n",
        " `print \"Olá, mundo!\"`"
      ]
    },
    {
      "cell_type": "code",
      "metadata": {
        "id": "Tps0pj1iyjjX"
      },
      "source": [
        "#Rode essa célula\n",
        "print \"Olá, mundo!\""
      ],
      "execution_count": null,
      "outputs": []
    },
    {
      "cell_type": "markdown",
      "metadata": {
        "id": "5fPsPWwOymUf"
      },
      "source": [
        "Deve ter aparecido uma mensagem de erro. Preste atenção na última linha:<br> `SyntaxError: Missing parentheses in call to 'print'.`\n",
        "<br> <br> \n",
        "Coloque essa frase na busca do [Google](https://www.google.com/). <br> \n",
        "**Dica**: Respostas no [Stack Overflow](https://stackoverflow.com/) constumam ser muito boas! Comece por elas. <br><br>\n",
        "Os dois primeiros retornos da busca do Google já foram super úteis. Veja quais foram: <br>\n",
        "[Primeira](https://stackoverflow.com/questions/25445439/what-does-syntaxerror-missing-parentheses-in-call-to-print-mean-in-python) <br>\n",
        "[Segunda](https://qastack.com.br/programming/25445439/what-does-syntaxerror-missing-parentheses-in-call-to-print-mean-in-python)"
      ]
    },
    {
      "cell_type": "code",
      "metadata": {
        "id": "uLDBNaweyodT"
      },
      "source": [],
      "execution_count": null,
      "outputs": []
    }
  ]
}