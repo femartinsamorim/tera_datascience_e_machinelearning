{
  "nbformat": 4,
  "nbformat_minor": 0,
  "metadata": {
    "colab": {
      "provenance": [],
      "authorship_tag": "ABX9TyM6PM8fj5sjjmityz2wtos+",
      "include_colab_link": true
    },
    "kernelspec": {
      "name": "python3",
      "display_name": "Python 3"
    },
    "language_info": {
      "name": "python"
    }
  },
  "cells": [
    {
      "cell_type": "markdown",
      "metadata": {
        "id": "view-in-github",
        "colab_type": "text"
      },
      "source": [
        "<a href=\"https://colab.research.google.com/github/femartinsamorim/tera_datascience_e_machinelearning/blob/main/Introdu%C3%A7%C3%A3o_Python_Tera.ipynb\" target=\"_parent\"><img src=\"https://colab.research.google.com/assets/colab-badge.svg\" alt=\"Open In Colab\"/></a>"
      ]
    },
    {
      "cell_type": "code",
      "execution_count": 6,
      "metadata": {
        "colab": {
          "base_uri": "https://localhost:8080/"
        },
        "id": "a9TOxT8jL9fe",
        "outputId": "99256e0c-5c90-4436-e9d8-ad890706a25f"
      },
      "outputs": [
        {
          "output_type": "stream",
          "name": "stdout",
          "text": [
            "Hello World!\n"
          ]
        }
      ],
      "source": [
        "print(\"Hello World!\")"
      ]
    },
    {
      "cell_type": "code",
      "source": [
        "# Oi! Sou um comentário. O Python ignora toda linha que começa com #\n",
        "# Escreva seu código na linha abaixo\n",
        "def nome_fun():\n",
        "  name = str(input(\"Informe seu nome: \"))\n",
        "  print(f'Desejo toda sorte a você {name}')\n",
        "  name_maius = name.upper()\n",
        "\n",
        "  sobrenome = str(input(\"Qual é seu sobrenome? \"))\n",
        "  print( \"Que legal {}, seu sobrenome é {}, show de bola!\".format(name,sobrenome))\n",
        "\n",
        "  if name_maius == \"FELIPE\":\n",
        "    print('\\n')\n",
        "    return f'{name}! Outra coisa, Seu nome é foda!'\n",
        "  else:\n",
        "    pass\n",
        "\n",
        "\n",
        "nome_fun()"
      ],
      "metadata": {
        "colab": {
          "base_uri": "https://localhost:8080/",
          "height": 145
        },
        "id": "vOaps3mtdSEZ",
        "outputId": "f3b3100a-c8ee-4f0b-c94d-ed28927ba857"
      },
      "execution_count": 19,
      "outputs": [
        {
          "output_type": "stream",
          "name": "stdout",
          "text": [
            "Informe seu nome: Felipe\n",
            "Desejo toda sorte a você Felipe\n",
            "Qual é seu sobrenome? Amorim\n",
            "Que legal Felipe, seu sobrenome é Amorim, show de bola!\n",
            "\n",
            "\n"
          ]
        },
        {
          "output_type": "execute_result",
          "data": {
            "text/plain": [
              "'Felipe! Outra coisa, Seu nome é foda!'"
            ],
            "application/vnd.google.colaboratory.intrinsic+json": {
              "type": "string"
            }
          },
          "metadata": {},
          "execution_count": 19
        }
      ]
    }
  ]
}