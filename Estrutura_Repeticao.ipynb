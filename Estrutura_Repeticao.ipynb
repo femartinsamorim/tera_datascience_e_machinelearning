{
  "nbformat": 4,
  "nbformat_minor": 0,
  "metadata": {
    "colab": {
      "provenance": [],
      "authorship_tag": "ABX9TyN6/dLPNahVqHlCfjbhZ6EF",
      "include_colab_link": true
    },
    "kernelspec": {
      "name": "python3",
      "display_name": "Python 3"
    },
    "language_info": {
      "name": "python"
    }
  },
  "cells": [
    {
      "cell_type": "markdown",
      "metadata": {
        "id": "view-in-github",
        "colab_type": "text"
      },
      "source": [
        "<a href=\"https://colab.research.google.com/github/femartinsamorim/tera_datascience_e_machinelearning/blob/main/Estrutura_Repeticao.ipynb\" target=\"_parent\"><img src=\"https://colab.research.google.com/assets/colab-badge.svg\" alt=\"Open In Colab\"/></a>"
      ]
    },
    {
      "cell_type": "code",
      "execution_count": 1,
      "metadata": {
        "id": "NKpD0WZRMtUo"
      },
      "outputs": [],
      "source": [
        "lista_nomes = ['Michael','Levis','Taylor','Hayley','Chris','Cindy','Tom']"
      ]
    },
    {
      "cell_type": "code",
      "source": [
        "for nomes in lista_nomes:\n",
        "  print(nomes, end=', ')\n",
        "print(f'\\nTemos nesta lista \"{len(lista_nomes)}\" nomes')"
      ],
      "metadata": {
        "colab": {
          "base_uri": "https://localhost:8080/"
        },
        "id": "GddTBohMNxPJ",
        "outputId": "6aeb75b3-4be5-487c-d357-206abc3b2245"
      },
      "execution_count": 8,
      "outputs": [
        {
          "output_type": "stream",
          "name": "stdout",
          "text": [
            "Michael, Levis, Taylor, Hayley, Chris, Cindy, Tom, \n",
            "Temos nesta lista \"7\" nome\n"
          ]
        }
      ]
    },
    {
      "cell_type": "code",
      "source": [
        "numeros = [0,12,2,13,4,5,45,1,50,60,27]\n",
        "for numero in numeros:\n",
        "  if numero == 4:\n",
        "    print('Número \"4\" Localizado')\n",
        "  else:\n",
        "    print('Número Oculto')"
      ],
      "metadata": {
        "colab": {
          "base_uri": "https://localhost:8080/"
        },
        "id": "V-IVM5PYP6Nf",
        "outputId": "01e0ba8f-069f-46d7-937b-5c79f5958fc2"
      },
      "execution_count": 10,
      "outputs": [
        {
          "output_type": "stream",
          "name": "stdout",
          "text": [
            "Número Oculto\n",
            "Número Oculto\n",
            "Número Oculto\n",
            "Número Oculto\n",
            "Número \"4\" Localizado\n",
            "Número Oculto\n",
            "Número Oculto\n",
            "Número Oculto\n",
            "Número Oculto\n",
            "Número Oculto\n",
            "Número Oculto\n"
          ]
        }
      ]
    },
    {
      "cell_type": "code",
      "source": [
        "for numero in numeros:\n",
        "  if numero <= 15:\n",
        "    print(f'Número Baixo: {numero}')\n",
        "  elif numero > 15 and numero <= 30:\n",
        "    print(f'Número Médio: {numero}')\n",
        "  else:\n",
        "    print(f'Número Alto: {numero}')"
      ],
      "metadata": {
        "colab": {
          "base_uri": "https://localhost:8080/"
        },
        "id": "DGPy_WTIQ91I",
        "outputId": "1fe60553-074e-441e-9733-f2ef21c01099"
      },
      "execution_count": 12,
      "outputs": [
        {
          "output_type": "stream",
          "name": "stdout",
          "text": [
            "Número Baixo: 0\n",
            "Número Baixo: 12\n",
            "Número Baixo: 2\n",
            "Número Baixo: 13\n",
            "Número Baixo: 4\n",
            "Número Baixo: 5\n",
            "Número Alto: 45\n",
            "Número Baixo: 1\n",
            "Número Alto: 50\n",
            "Número Alto: 60\n",
            "Número Médio: 27\n"
          ]
        }
      ]
    },
    {
      "cell_type": "code",
      "source": [
        "i = 0\n",
        "while i < 10:\n",
        "  print(i)\n",
        "  i = i + 1\n",
        "  \n",
        "print('Fim do Loop')"
      ],
      "metadata": {
        "colab": {
          "base_uri": "https://localhost:8080/"
        },
        "id": "jG_H4SLNSRT7",
        "outputId": "bb205ad7-1584-4fab-d9b4-f5d30cc7119b"
      },
      "execution_count": 24,
      "outputs": [
        {
          "output_type": "stream",
          "name": "stdout",
          "text": [
            "0\n",
            "1\n",
            "2\n",
            "3\n",
            "4\n",
            "5\n",
            "6\n",
            "7\n",
            "8\n",
            "9\n",
            "Fim do Loop\n"
          ]
        }
      ]
    }
  ]
}